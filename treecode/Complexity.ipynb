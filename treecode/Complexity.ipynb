{
 "cells": [
  {
   "cell_type": "markdown",
   "id": "a2eaa450",
   "metadata": {},
   "source": [
    "# Complexity analysis\n",
    "\n",
    "In this notebook we report the complexity analysis, trying to figure if the $N \\cdot \\log{N}$ dependency is correct. "
   ]
  },
  {
   "cell_type": "markdown",
   "id": "bd252fbd",
   "metadata": {},
   "source": [
    "We first create the input files to use to run the $\\textit{treecode}$ code multiple times with different $N$: "
   ]
  },
  {
   "cell_type": "code",
   "execution_count": 1,
   "id": "3e52b7ff",
   "metadata": {},
   "outputs": [],
   "source": [
    "import numpy as np\n",
    "import random\n",
    "import matplotlib.pyplot as plt"
   ]
  },
  {
   "cell_type": "code",
   "execution_count": 2,
   "id": "28afba04",
   "metadata": {},
   "outputs": [],
   "source": [
    "a = 1\n",
    "M = 1\n",
    "\n",
    "Narray = np.arange(1000,11000,1000)\n",
    "\n",
    "for N in Narray:\n",
    "    \n",
    "    m = M/N\n",
    "    \n",
    "    # P(r) = 3*r^3/(a^3)\n",
    "    # r(P) = a(P/3)^(1/3)\n",
    "\n",
    "    cdf_r = np.random.uniform(0,1,N)\n",
    "    r = a*(cdf_r/3)**(1/3)\n",
    "\n",
    "    # P(theta) = (1 - cos(theta))/2\n",
    "    # theta(P) = cos^(-1)(1 - 2P)\n",
    "\n",
    "    cdf_theta = np.random.uniform(0,1,N)\n",
    "    theta = np.arccos(1 - 2*cdf_theta)\n",
    "\n",
    "    phi = np.random.uniform(0,2*np.pi,N)\n",
    "    \n",
    "    x = r * np.sin(theta) * np.cos(phi)\n",
    "    y = r * np.sin(theta) * np.sin(phi)\n",
    "    z = r * np.cos(theta) \n",
    "\n",
    "    # open the file\n",
    "    file = open('input%s.txt'% N, 'w')\n",
    "\n",
    "    # write the file\n",
    "    file.write(f'{N}\\n')\n",
    "    file.write('3\\n') # dimensions\n",
    "    file.write('0\\n')\n",
    "\n",
    "    for i in range(N):\n",
    "        file.write(f'0.01\\n')\n",
    "\n",
    "    for i in range(N):\n",
    "        file.write(f'{x[i]} {y[i]} {z[i]}\\n')\n",
    "\n",
    "    for i in range(N):\n",
    "        file.write(f'{0} {0} {0}\\n')\n",
    "\n",
    "\n",
    "    # close the file\n",
    "    file.close()"
   ]
  },
  {
   "cell_type": "markdown",
   "id": "a9c61d61",
   "metadata": {},
   "source": [
    "## Running the script"
   ]
  },
  {
   "cell_type": "code",
   "execution_count": 3,
   "id": "eb3c6b43",
   "metadata": {},
   "outputs": [
    {
     "name": "stderr",
     "output_type": "stream",
     "text": [
      "( ./treecode in=$input out=$output dtime=$dtime eps=$eps theta=$theta  ; ) 2>  3.44s user 0.06s system 99% cpu 3.540 total\n",
      "( ./treecode in=$input out=$output dtime=$dtime eps=$eps theta=$theta  ; ) 2>  10.66s user 0.16s system 98% cpu 10.993 total\n",
      "( ./treecode in=$input out=$output dtime=$dtime eps=$eps theta=$theta  ; ) 2>  20.59s user 0.25s system 98% cpu 21.219 total\n",
      "( ./treecode in=$input out=$output dtime=$dtime eps=$eps theta=$theta  ; ) 2>  33.13s user 0.32s system 97% cpu 34.375 total\n",
      "( ./treecode in=$input out=$output dtime=$dtime eps=$eps theta=$theta  ; ) 2>  49.10s user 0.59s system 94% cpu 52.419 total\n",
      "( ./treecode in=$input out=$output dtime=$dtime eps=$eps theta=$theta  ; ) 2>  65.89s user 0.78s system 91% cpu 1:13.13 total\n",
      "( ./treecode in=$input out=$output dtime=$dtime eps=$eps theta=$theta  ; ) 2>  94.92s user 1.52s system 63% cpu 2:31.56 total\n",
      "( ./treecode in=$input out=$output dtime=$dtime eps=$eps theta=$theta  ; ) 2>  99.18s user 1.00s system 93% cpu 1:47.35 total\n",
      "( ./treecode in=$input out=$output dtime=$dtime eps=$eps theta=$theta  ; ) 2>  115.14s user 0.96s system 94% cpu 2:03.20 total\n"
     ]
    },
    {
     "name": "stdout",
     "output_type": "stream",
     "text": [
      "Execution time for input1000.txt:  seconds\n",
      "Execution time for input2000.txt:  seconds\n",
      "Execution time for input3000.txt:  seconds\n",
      "Execution time for input4000.txt:  seconds\n",
      "Execution time for input5000.txt:  seconds\n",
      "Execution time for input6000.txt:  seconds\n",
      "Execution time for input7000.txt:  seconds\n",
      "Execution time for input8000.txt:  seconds\n",
      "Execution time for input9000.txt:  seconds\n",
      "Execution time for input10000.txt:  seconds\n",
      "Execution times written to time.out\n",
      "\n"
     ]
    },
    {
     "name": "stderr",
     "output_type": "stream",
     "text": [
      "( ./treecode in=$input out=$output dtime=$dtime eps=$eps theta=$theta  ; ) 2>  129.22s user 0.90s system 96% cpu 2:15.26 total\n"
     ]
    }
   ],
   "source": [
    "import subprocess  # to run the process multiple times and produce the output file with the times\n",
    "\n",
    "result = subprocess.run(['zsh', 'complexity.zsh'], stdout=subprocess.PIPE)\n",
    "\n",
    "output = result.stdout.decode('utf-8')\n",
    "print(output)"
   ]
  },
  {
   "cell_type": "code",
   "execution_count": 4,
   "id": "bdb67041",
   "metadata": {},
   "outputs": [],
   "source": [
    "# Clearing the directory from the input and ouput files\n",
    "import os\n",
    "\n",
    "for i in Narray:\n",
    "    filename1 = f'input{i}.txt'\n",
    "    filename2 = f'output{i}.out'\n",
    "    if os.path.exists(filename1):\n",
    "        os.remove(filename1)\n",
    "    if os.path.exists(filename2):\n",
    "        os.remove(filename2)"
   ]
  },
  {
   "cell_type": "markdown",
   "id": "a2427295",
   "metadata": {},
   "source": [
    "## Read data: \n",
    "\n",
    "We read the outputs and plot the results ($N$ vs $t_{exec}$)."
   ]
  },
  {
   "cell_type": "code",
   "execution_count": 40,
   "id": "ccf7a89c",
   "metadata": {},
   "outputs": [],
   "source": [
    "# Open the .out file for reading\n",
    "with open('time.out', 'r') as f:\n",
    "    # Read the lines of the file into a list\n",
    "    lines = f.readlines()\n",
    "\n",
    "# Create an empty list to store the data from the second column\n",
    "data = []\n",
    "\n",
    "# Loop over the lines of the file\n",
    "for line in lines:\n",
    "    # Split each line into a list of words\n",
    "    words = line.split()\n",
    "    \n",
    "    # Check if the list has at less than two elements\n",
    "    if len(words) < 2:\n",
    "        # Convert the second element to a float, replacing comma with point if necessary\n",
    "        number = float(words[0].replace(',', '.'))\n",
    "        # Append the number to the data list\n",
    "        data.append(number)\n",
    "\n",
    "# Convert the data list to a numpy array\n",
    "times = np.array(data)\n",
    "\n",
    "# Close the file\n",
    "f.close()"
   ]
  },
  {
   "cell_type": "code",
   "execution_count": 46,
   "id": "5eb3cc14",
   "metadata": {},
   "outputs": [
    {
     "data": {
      "image/png": "[encoded data removed]",
      "text/plain": [
       "<Figure size 720x576 with 1 Axes>"
      ]
     },
     "metadata": {
      "needs_background": "light"
     },
     "output_type": "display_data"
    }
   ],
   "source": [
    "plt.figure(figsize=(10, 8))\n",
    "\n",
    "plt.plot(Narray, times)\n",
    "plt.xlabel(\"$N$ masses\")\n",
    "plt.ylabel(\"$t_{run} [s]$\")\n",
    "plt.show()"
   ]
  },
  {
   "cell_type": "markdown",
   "id": "4b5e7523",
   "metadata": {},
   "source": [
    "Check with a fit if it has the same behaviour as expected: "
   ]
  },
  {
   "cell_type": "code",
   "execution_count": 42,
   "id": "51f309d6",
   "metadata": {},
   "outputs": [],
   "source": [
    "def fit_func(N, c, alpha): \n",
    "    \n",
    "    return c*N**alpha*np.log(N)"
   ]
  },
  {
   "cell_type": "code",
   "execution_count": 43,
   "id": "7759ba58",
   "metadata": {},
   "outputs": [],
   "source": [
    "import scipy\n",
    "from scipy import optimize\n",
    "\n",
    "params, _ = scipy.optimize.curve_fit(fit_func, Narray, times)"
   ]
  },
  {
   "cell_type": "code",
   "execution_count": 49,
   "id": "2b2b26da",
   "metadata": {},
   "outputs": [
    {
     "name": "stdout",
     "output_type": "stream",
     "text": [
      "alpha = 1.3098537261761727\n"
     ]
    },
    {
     "data": {
      "image/png": "[encoded data removed]",
      "text/plain": [
       "<Figure size 720x576 with 1 Axes>"
      ]
     },
     "metadata": {
      "needs_background": "light"
     },
     "output_type": "display_data"
    }
   ],
   "source": [
    "plt.figure(figsize = (10,8))\n",
    "\n",
    "print(\"alpha =\", params[1])\n",
    "\n",
    "plt.scatter(Narray, times, c = 'r', label=\"results\")\n",
    "plt.plot(Narray, fit_func(Narray, params[0], params[1]), label=r\"$N \\cdot \\log{N}$ fit\")\n",
    "plt.xlabel(\"$N$ masses\")\n",
    "plt.ylabel(\"$t_{run} [s]$\")\n",
    "plt.suptitle(\"Runtime VS $N$ masses\")\n",
    "plt.legend()\n",
    "plt.show();"
   ]
  }
 ],
 "metadata": {
  "kernelspec": {
   "display_name": "Python 3 (ipykernel)",
   "language": "python",
   "name": "python3"
  },
  "language_info": {
   "codemirror_mode": {
    "name": "ipython",
    "version": 3
   },
   "file_extension": ".py",
   "mimetype": "text/x-python",
   "name": "python",
   "nbconvert_exporter": "python",
   "pygments_lexer": "ipython3",
   "version": "3.9.7"
  }
 },
 "nbformat": 4,
 "nbformat_minor": 5
}
